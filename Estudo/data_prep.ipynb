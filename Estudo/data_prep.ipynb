{
 "cells": [
  {
   "cell_type": "code",
   "execution_count": 1,
   "metadata": {},
   "outputs": [],
   "source": [
    "import os\n",
    "import sys\n",
    "\n",
    "os.environ['PYSPARK_PYTHON'] = sys.executable\n",
    "os.environ['PYSPARK_DRIVER_PYTHON'] = sys.executable"
   ]
  },
  {
   "cell_type": "code",
   "execution_count": 2,
   "metadata": {},
   "outputs": [
    {
     "data": {
      "text/html": [
       "\n",
       "            <div>\n",
       "                <p><b>SparkSession - in-memory</b></p>\n",
       "                \n",
       "        <div>\n",
       "            <p><b>SparkContext</b></p>\n",
       "\n",
       "            <p><a href=\"http://LAPTOP-J787AVAS:4050\">Spark UI</a></p>\n",
       "\n",
       "            <dl>\n",
       "              <dt>Version</dt>\n",
       "                <dd><code>v3.3.4</code></dd>\n",
       "              <dt>Master</dt>\n",
       "                <dd><code>local[*]</code></dd>\n",
       "              <dt>AppName</dt>\n",
       "                <dd><code>Spark APP</code></dd>\n",
       "            </dl>\n",
       "        </div>\n",
       "        \n",
       "            </div>\n",
       "        "
      ],
      "text/plain": [
       "<pyspark.sql.session.SparkSession at 0x1e947e7d310>"
      ]
     },
     "execution_count": 2,
     "metadata": {},
     "output_type": "execute_result"
    }
   ],
   "source": [
    "import findspark\n",
    "\n",
    "findspark.init()\n",
    "\n",
    "from pyspark.sql import SparkSession\n",
    "\n",
    "spark = SparkSession.builder.master(\"local[*]\").appName(\"Spark APP\").config('spark.ui.port', '4050').getOrCreate()\n",
    "spark"
   ]
  },
  {
   "cell_type": "code",
   "execution_count": 11,
   "metadata": {},
   "outputs": [],
   "source": [
    "from pyspark.sql import functions as f"
   ]
  },
  {
   "cell_type": "code",
   "execution_count": 13,
   "metadata": {},
   "outputs": [
    {
     "data": {
      "text/plain": [
       "20758"
      ]
     },
     "execution_count": 13,
     "metadata": {},
     "output_type": "execute_result"
    }
   ],
   "source": [
    "df = spark.read.csv('new_york_listings_2024.csv', header=True, inferSchema=True, sep=',')\n",
    "\n",
    "df.count()"
   ]
  },
  {
   "cell_type": "markdown",
   "metadata": {},
   "source": [
    "# Data Modeling"
   ]
  },
  {
   "cell_type": "markdown",
   "metadata": {},
   "source": [
    "## Handling Duplicates\n",
    "\n",
    "- Rows with different data but same ids\n",
    "- Rows with different ids but same data\n",
    "- Rows with same data and same id"
   ]
  },
  {
   "cell_type": "code",
   "execution_count": 14,
   "metadata": {},
   "outputs": [
    {
     "name": "stdout",
     "output_type": "stream",
     "text": [
      "Count of rows: 20758\n",
      "Count of distincts: 20758\n"
     ]
    }
   ],
   "source": [
    "print(f'Count of rows: {df.count()}')\n",
    "print(f'Count of distincts: {df.distinct().count()}')"
   ]
  },
  {
   "cell_type": "markdown",
   "metadata": {},
   "source": [
    "In this case the number of rows is the same as the number of distinct rows, which means it has no rows with exactly the same data in it. If there were duplicates we must drop it"
   ]
  },
  {
   "cell_type": "code",
   "execution_count": 6,
   "metadata": {},
   "outputs": [],
   "source": [
    "df = df.dropDuplicates()"
   ]
  },
  {
   "cell_type": "markdown",
   "metadata": {},
   "source": [
    "Now lets check for rows that has the same data but with different ids"
   ]
  },
  {
   "cell_type": "code",
   "execution_count": 15,
   "metadata": {},
   "outputs": [
    {
     "name": "stdout",
     "output_type": "stream",
     "text": [
      "Count of ids: 20758\n",
      "Count of distinct ids: 20758\n"
     ]
    }
   ],
   "source": [
    "print(f'Count of ids: {df.count()}')\n",
    "print(f'Count of distinct ids: {\n",
    "    df.select(\n",
    "        [c for c in df.columns if c != 'id']\n",
    "    ).distinct().count()\n",
    "}')"
   ]
  },
  {
   "cell_type": "markdown",
   "metadata": {},
   "source": [
    "In this case if we had less distinct ids than the total, it would mean that there are rows with the same data but with different ids\n",
    "\n",
    "It was not our case, but if it was we can drop duplicates in a subset of columns, excluding the id\n",
    "\n",
    "```\n",
    "df = df.dropDuplicates(subset=[c for c in df.columns if c != 'id'])\n",
    "```"
   ]
  },
  {
   "cell_type": "markdown",
   "metadata": {},
   "source": [
    "Now we must check if there are any duplicated ids"
   ]
  },
  {
   "cell_type": "code",
   "execution_count": 16,
   "metadata": {},
   "outputs": [
    {
     "name": "stdout",
     "output_type": "stream",
     "text": [
      "+-----+-----+\n",
      "|count|count|\n",
      "+-----+-----+\n",
      "|20758|20758|\n",
      "+-----+-----+\n",
      "\n"
     ]
    }
   ],
   "source": [
    "df.agg(\n",
    "    f.count('id').alias('count'),\n",
    "    f.countDistinct('id').alias('count')\n",
    ").show()"
   ]
  },
  {
   "cell_type": "markdown",
   "metadata": {},
   "source": [
    "For the cases in which we have a problem with our id data we might just give each row an unique id\n",
    "\n",
    "```\n",
    "df.withColumn('new_id', f.monotonically_increasing_id()).show()\n",
    "```"
   ]
  },
  {
   "cell_type": "markdown",
   "metadata": {},
   "source": [
    "## Handling Missing Data\n",
    "\n",
    "- If our dataset can afford we might just drop the missing data. But if we observe a signifficant reduction in our dataset size we must look into each feature to find out those in which has holes in it. If a feature has most of its data missing, its fairly useless\n",
    "\n",
    "- If a feature is discrete boolean, we can turn it into a categorical variable by adding a 'Missing' category\n",
    "- If a feature is categorical, we can extend the number of levels and add 'Missing' category as well\n",
    "- If a feature is numerical we can impute either mean, median, mode or some other predefined value"
   ]
  },
  {
   "cell_type": "code",
   "execution_count": 17,
   "metadata": {},
   "outputs": [
    {
     "name": "stdout",
     "output_type": "stream",
     "text": [
      "+----------+------------+---------------+-----------------+---------------------------+---------------------+----------------+-----------------+-----------------+-------------+----------------------+-------------------------+-------------------+-------------------------+--------------------------------------+------------------------+-----------------------------+---------------+--------------+----------------+------------+-------------+\n",
      "|id_missing|name_missing|host_id_missing|host_name_missing|neighbourhood_group_missing|neighbourhood_missing|latitude_missing|longitude_missing|room_type_missing|price_missing|minimum_nights_missing|number_of_reviews_missing|last_review_missing|reviews_per_month_missing|calculated_host_listings_count_missing|availability_365_missing|number_of_reviews_ltm_missing|license_missing|rating_missing|bedrooms_missing|beds_missing|baths_missing|\n",
      "+----------+------------+---------------+-----------------+---------------------------+---------------------+----------------+-----------------+-----------------+-------------+----------------------+-------------------------+-------------------+-------------------------+--------------------------------------+------------------------+-----------------------------+---------------+--------------+----------------+------------+-------------+\n",
      "|       0.0|         0.0|            0.0|              0.0|                        0.0|                  0.0|             0.0|              0.0|              0.0|          0.0|                   0.0|                      0.0|                0.0|                      0.0|                                   0.0|                     0.0|                          0.0|            0.0|           0.0|             0.0|         0.0|          0.0|\n",
      "+----------+------------+---------------+-----------------+---------------------------+---------------------+----------------+-----------------+-----------------+-------------+----------------------+-------------------------+-------------------+-------------------------+--------------------------------------+------------------------+-----------------------------+---------------+--------------+----------------+------------+-------------+\n",
      "\n"
     ]
    }
   ],
   "source": [
    "# Lets Check the percentage of missing observation in each column\n",
    "\n",
    "df.agg(\n",
    "    *[\n",
    "        (1 - (f.count(c) / f.count('*'))).alias(c + '_missing')\n",
    "        for c in df.columns\n",
    "    ]\n",
    ").show()"
   ]
  },
  {
   "cell_type": "markdown",
   "metadata": {},
   "source": [
    "For the cases in which we decide to drop the rows with missing obersvations we can set a parameter in dropna function to define a threshold of columns with missing values that would qualify the drop of that row\n",
    "\n",
    "```\n",
    "df.dropna(threshold=7).show()\n",
    "```"
   ]
  },
  {
   "cell_type": "markdown",
   "metadata": {},
   "source": [
    "The other case is to impute the data with predefined values\n",
    "\n",
    "```\n",
    "means = df.agg(\n",
    "    *[\n",
    "        f.mean(c).alias(c) for c in df.columns\n",
    "    ]\n",
    ").toPandas().to_dict('Records')[0]\n",
    "\n",
    "df.fillna(means).show()\n",
    "```"
   ]
  },
  {
   "cell_type": "markdown",
   "metadata": {},
   "source": [
    "## Handling Outliers"
   ]
  },
  {
   "cell_type": "code",
   "execution_count": 20,
   "metadata": {},
   "outputs": [
    {
     "name": "stdout",
     "output_type": "stream",
     "text": [
      "+------------------+---------+----------+-----------+-------+----------------+-------------------+-------------------+--------------------------------+------------------+-----------------------+------+\n",
      "|                id|host_id_o|latitude_o|longitude_o|price_o|minimum_nights_o|number_of_reviews_o|reviews_per_month_o|calculated_host_listings_count_o|availability_365_o|number_of_reviews_ltm_o|beds_o|\n",
      "+------------------+---------+----------+-----------+-------+----------------+-------------------+-------------------+--------------------------------+------------------+-----------------------+------+\n",
      "|           1312228|    false|     false|      false|  false|           false|              false|              false|                           false|             false|                  false| false|\n",
      "|          45277537|    false|     false|      false|  false|           false|              false|              false|                            true|             false|                  false| false|\n",
      "|971353993633883038|    false|     false|      false|  false|            true|              false|              false|                           false|             false|                  false| false|\n",
      "|           3857863|    false|     false|      false|  false|           false|               true|              false|                           false|             false|                  false| false|\n",
      "|          40896611|    false|     false|      false|  false|           false|              false|              false|                            true|             false|                  false| false|\n",
      "|          49584983|    false|     false|      false|  false|           false|              false|              false|                            true|             false|                  false| false|\n",
      "|          45457047|    false|     false|      false|  false|           false|              false|              false|                            true|             false|                  false| false|\n",
      "|          45847112|    false|     false|      false|  false|           false|              false|              false|                            true|             false|                  false| false|\n",
      "|          19280212|    false|     false|      false|  false|           false|              false|              false|                           false|             false|                  false| false|\n",
      "|895681617796889995|    false|     false|      false|  false|           false|              false|              false|                           false|             false|                  false| false|\n",
      "|          17367484|    false|     false|      false|  false|           false|              false|              false|                           false|             false|                  false| false|\n",
      "|          22066430|    false|     false|      false|  false|           false|              false|              false|                           false|             false|                  false| false|\n",
      "|929978463825862773|    false|     false|      false|  false|           false|              false|              false|                           false|             false|                  false| false|\n",
      "|          26448665|    false|     false|      false|  false|           false|              false|              false|                           false|             false|                  false| false|\n",
      "|          28224871|    false|     false|      false|  false|           false|              false|              false|                           false|             false|                  false| false|\n",
      "|          29923599|    false|     false|      false|   true|           false|              false|              false|                            true|             false|                  false| false|\n",
      "|          23053827|    false|     false|      false|  false|           false|              false|              false|                           false|             false|                  false| false|\n",
      "|          34718504|    false|     false|      false|   true|            true|              false|              false|                           false|             false|                  false| false|\n",
      "|          39022484|    false|     false|      false|  false|           false|              false|              false|                            true|             false|                  false| false|\n",
      "|          34511726|    false|     false|      false|  false|           false|              false|              false|                           false|             false|                  false| false|\n",
      "+------------------+---------+----------+-----------+-------+----------------+-------------------+-------------------+--------------------------------+------------------+-----------------------+------+\n",
      "only showing top 20 rows\n",
      "\n"
     ]
    }
   ],
   "source": [
    "bounds = {}\n",
    "\n",
    "# Get list of numerical columns\n",
    "numerical_cols = [col[0] for col in df.dtypes if col[1] in ('int', 'double', 'float')]\n",
    "\n",
    "for col in numerical_cols:\n",
    "    quantiles = df.approxQuantile(\n",
    "        col, [0.25, 0.75], 0.05\n",
    "    )\n",
    "\n",
    "    iqr = quantiles[1] - quantiles[0]\n",
    "\n",
    "    bounds[col] = [\n",
    "        quantiles[0] - 1.5*iqr,\n",
    "        quantiles[1] + 1.5*iqr\n",
    "    ]\n",
    "\n",
    "outliers = df.select(\n",
    "    *['id'] + [\n",
    "        (\n",
    "            (df[c] < bounds[c][0]) |\n",
    "            (df[c] > bounds[c][1])\n",
    "        ).alias(c + '_o') for c in numerical_cols\n",
    "])\n",
    "\n",
    "outliers.show()"
   ]
  },
  {
   "cell_type": "markdown",
   "metadata": {},
   "source": [
    "# Descriptive Statistics"
   ]
  },
  {
   "cell_type": "code",
   "execution_count": 21,
   "metadata": {},
   "outputs": [
    {
     "name": "stdout",
     "output_type": "stream",
     "text": [
      "root\n",
      " |-- id: long (nullable = true)\n",
      " |-- name: string (nullable = true)\n",
      " |-- host_id: integer (nullable = true)\n",
      " |-- host_name: string (nullable = true)\n",
      " |-- neighbourhood_group: string (nullable = true)\n",
      " |-- neighbourhood: string (nullable = true)\n",
      " |-- latitude: double (nullable = true)\n",
      " |-- longitude: double (nullable = true)\n",
      " |-- room_type: string (nullable = true)\n",
      " |-- price: double (nullable = true)\n",
      " |-- minimum_nights: integer (nullable = true)\n",
      " |-- number_of_reviews: integer (nullable = true)\n",
      " |-- last_review: timestamp (nullable = true)\n",
      " |-- reviews_per_month: double (nullable = true)\n",
      " |-- calculated_host_listings_count: integer (nullable = true)\n",
      " |-- availability_365: integer (nullable = true)\n",
      " |-- number_of_reviews_ltm: integer (nullable = true)\n",
      " |-- license: string (nullable = true)\n",
      " |-- rating: string (nullable = true)\n",
      " |-- bedrooms: string (nullable = true)\n",
      " |-- beds: integer (nullable = true)\n",
      " |-- baths: string (nullable = true)\n",
      "\n"
     ]
    }
   ],
   "source": [
    "df.printSchema()"
   ]
  },
  {
   "cell_type": "code",
   "execution_count": 22,
   "metadata": {},
   "outputs": [
    {
     "data": {
      "text/plain": [
       "[('id', 'bigint'),\n",
       " ('name', 'string'),\n",
       " ('host_id', 'int'),\n",
       " ('host_name', 'string'),\n",
       " ('neighbourhood_group', 'string'),\n",
       " ('neighbourhood', 'string'),\n",
       " ('latitude', 'double'),\n",
       " ('longitude', 'double'),\n",
       " ('room_type', 'string'),\n",
       " ('price', 'double'),\n",
       " ('minimum_nights', 'int'),\n",
       " ('number_of_reviews', 'int'),\n",
       " ('last_review', 'timestamp'),\n",
       " ('reviews_per_month', 'double'),\n",
       " ('calculated_host_listings_count', 'int'),\n",
       " ('availability_365', 'int'),\n",
       " ('number_of_reviews_ltm', 'int'),\n",
       " ('license', 'string'),\n",
       " ('rating', 'string'),\n",
       " ('bedrooms', 'string'),\n",
       " ('beds', 'int'),\n",
       " ('baths', 'string')]"
      ]
     },
     "execution_count": 22,
     "metadata": {},
     "output_type": "execute_result"
    }
   ],
   "source": [
    "df.dtypes"
   ]
  },
  {
   "cell_type": "markdown",
   "metadata": {},
   "source": [
    "At first we may want to check the balance in our categorical variables"
   ]
  },
  {
   "cell_type": "code",
   "execution_count": 23,
   "metadata": {},
   "outputs": [
    {
     "data": {
      "text/plain": [
       "['name',\n",
       " 'host_name',\n",
       " 'neighbourhood_group',\n",
       " 'neighbourhood',\n",
       " 'room_type',\n",
       " 'license',\n",
       " 'rating',\n",
       " 'bedrooms',\n",
       " 'baths']"
      ]
     },
     "execution_count": 23,
     "metadata": {},
     "output_type": "execute_result"
    }
   ],
   "source": [
    "categorical_columns = [col[0] for col in df.dtypes if col[1] in ('string')]\n",
    "categorical_columns"
   ]
  },
  {
   "cell_type": "markdown",
   "metadata": {},
   "source": [
    "We can check the balance in data with the following code snippet"
   ]
  },
  {
   "cell_type": "code",
   "execution_count": 37,
   "metadata": {},
   "outputs": [
    {
     "name": "stdout",
     "output_type": "stream",
     "text": [
      "+-------------------+-----+\n",
      "|neighbourhood_group|count|\n",
      "+-------------------+-----+\n",
      "|             Queens| 3761|\n",
      "|           Brooklyn| 7719|\n",
      "|      Staten Island|  291|\n",
      "|          Manhattan| 8038|\n",
      "|              Bronx|  949|\n",
      "+-------------------+-----+\n",
      "\n"
     ]
    }
   ],
   "source": [
    "df.groupBy('neighbourhood_group').count().show()"
   ]
  },
  {
   "cell_type": "markdown",
   "metadata": {},
   "source": [
    "For the numerical features we may use the describe() method"
   ]
  },
  {
   "cell_type": "code",
   "execution_count": 38,
   "metadata": {},
   "outputs": [
    {
     "name": "stdout",
     "output_type": "stream",
     "text": [
      "+-------+--------------------+-------------------+-------------------+------------------+------------------+-----------------+------------------+------------------------------+------------------+---------------------+------------------+\n",
      "|summary|             host_id|           latitude|          longitude|             price|    minimum_nights|number_of_reviews| reviews_per_month|calculated_host_listings_count|  availability_365|number_of_reviews_ltm|              beds|\n",
      "+-------+--------------------+-------------------+-------------------+------------------+------------------+-----------------+------------------+------------------------------+------------------+---------------------+------------------+\n",
      "|  count|               20758|              20758|              20758|             20758|             20758|            20758|             20758|                         20758|             20758|                20758|             20758|\n",
      "|   mean|1.7493156215092975E8|  40.72679825847375| -73.93916133554428|187.77661624433952| 28.55843530205222|42.64259562578283|1.2579097215531443|             18.84410829559688|205.99031698622218|   10.852105212448214|1.7237209750457654|\n",
      "| stddev|1.7255411331315443E8|0.06029350712688323|0.06140305647575168|1022.7972081388928|33.536517576753866|73.56165390492212| 1.904661144505105|             70.91083391655367|135.08776836669188|    21.35707110869989|1.2122716418748947|\n",
      "|    min|                1678|  40.50031443485432|          -74.24984|              10.0|                 1|                1|              0.01|                             1|                 0|                    0|                 1|\n",
      "|    max|           550403525|  40.91114683573623|          -73.71365|          100000.0|              1250|             1865|             75.49|                           713|               365|                 1075|                42|\n",
      "+-------+--------------------+-------------------+-------------------+------------------+------------------+-----------------+------------------+------------------------------+------------------+---------------------+------------------+\n",
      "\n"
     ]
    }
   ],
   "source": [
    "desc = df.describe(numerical_cols)\n",
    "desc.show()"
   ]
  },
  {
   "cell_type": "markdown",
   "metadata": {},
   "source": [
    "We can see that there are some variables that is skewed with the maximum value being a number of times greater than the mean. Furthermore there are features with a high standard deviation. We can check the skewness of a variable with the following code"
   ]
  },
  {
   "cell_type": "code",
   "execution_count": 39,
   "metadata": {},
   "outputs": [
    {
     "name": "stdout",
     "output_type": "stream",
     "text": [
      "+-----------------+\n",
      "|  skewness(price)|\n",
      "+-----------------+\n",
      "|89.99196126141626|\n",
      "+-----------------+\n",
      "\n"
     ]
    }
   ],
   "source": [
    "df.agg({'price': 'skewness'}).show()"
   ]
  },
  {
   "cell_type": "markdown",
   "metadata": {},
   "source": [
    "# Correlations"
   ]
  },
  {
   "cell_type": "code",
   "execution_count": 41,
   "metadata": {},
   "outputs": [
    {
     "data": {
      "text/plain": [
       "-0.0065265311510967865"
      ]
     },
     "execution_count": 41,
     "metadata": {},
     "output_type": "execute_result"
    }
   ],
   "source": [
    "# to calculate a correlation in pyspark is pretty easy. The problem is that it only supports pairwise correlations\n",
    "\n",
    "df.corr('price', 'minimum_nights')"
   ]
  },
  {
   "cell_type": "code",
   "execution_count": 42,
   "metadata": {},
   "outputs": [
    {
     "data": {
      "text/plain": [
       "[[1.0,\n",
       "  0.012012421307592386,\n",
       "  0.12240074989355525,\n",
       "  -0.005987037347502429,\n",
       "  -0.07250585448588709,\n",
       "  -0.13995698152596134,\n",
       "  0.1703660417597071,\n",
       "  -0.049946729216101465,\n",
       "  0.08272219880705102,\n",
       "  0.10096630436451472,\n",
       "  0.05659476453973668],\n",
       " [None,\n",
       "  1.0,\n",
       "  0.04628383949502985,\n",
       "  -0.0011432424932324747,\n",
       "  0.004126278257119762,\n",
       "  -0.04837187179187074,\n",
       "  -0.04194295174130962,\n",
       "  0.07007686975253231,\n",
       "  -0.0051209742774677835,\n",
       "  -0.041816869752631734,\n",
       "  -0.0700415572341627],\n",
       " [None,\n",
       "  None,\n",
       "  1.0,\n",
       "  -0.03346040983685071,\n",
       "  0.024145069426878704,\n",
       "  0.005666195559932275,\n",
       "  0.04257958096430123,\n",
       "  -0.07220288369568262,\n",
       "  0.06189594261392794,\n",
       "  0.03368315810842712,\n",
       "  0.0357136527652842],\n",
       " [None,\n",
       "  None,\n",
       "  None,\n",
       "  1.0,\n",
       "  -0.0065265311510967865,\n",
       "  -0.012588027423888525,\n",
       "  -0.009916846601852993,\n",
       "  -0.0073326741599544,\n",
       "  0.020151097567992438,\n",
       "  -0.011262846660258334,\n",
       "  0.06688227776077393],\n",
       " [None,\n",
       "  None,\n",
       "  None,\n",
       "  None,\n",
       "  1.0,\n",
       "  -0.05919739795705836,\n",
       "  -0.12253530983811105,\n",
       "  0.01498057251420073,\n",
       "  0.03452790563601181,\n",
       "  -0.09263514804692027,\n",
       "  -0.026539650993159452],\n",
       " [None,\n",
       "  None,\n",
       "  None,\n",
       "  None,\n",
       "  None,\n",
       "  1.0,\n",
       "  0.6314345326567912,\n",
       "  -0.11462723721321726,\n",
       "  -0.05042798248328945,\n",
       "  0.6055890231360965,\n",
       "  0.035510985029514726],\n",
       " [None,\n",
       "  None,\n",
       "  None,\n",
       "  None,\n",
       "  None,\n",
       "  None,\n",
       "  1.0,\n",
       "  -0.10858996318769057,\n",
       "  -0.0407004801491676,\n",
       "  0.8498124775103588,\n",
       "  0.047699452935083805],\n",
       " [None,\n",
       "  None,\n",
       "  None,\n",
       "  None,\n",
       "  None,\n",
       "  None,\n",
       "  None,\n",
       "  1.0,\n",
       "  0.04633803797321383,\n",
       "  -0.09152466255128155,\n",
       "  -0.07102075898403222],\n",
       " [None,\n",
       "  None,\n",
       "  None,\n",
       "  None,\n",
       "  None,\n",
       "  None,\n",
       "  None,\n",
       "  None,\n",
       "  1.0,\n",
       "  -0.049132619479654416,\n",
       "  0.06469537632229051],\n",
       " [None,\n",
       "  None,\n",
       "  None,\n",
       "  None,\n",
       "  None,\n",
       "  None,\n",
       "  None,\n",
       "  None,\n",
       "  None,\n",
       "  1.0,\n",
       "  0.0321371099204224],\n",
       " [None, None, None, None, None, None, None, None, None, None, 1.0]]"
      ]
     },
     "execution_count": 42,
     "metadata": {},
     "output_type": "execute_result"
    }
   ],
   "source": [
    "# We can calculate a correlation matrix with the following code\n",
    "\n",
    "n_numerical = len(numerical_cols)\n",
    "\n",
    "corr = []\n",
    "\n",
    "for i in range(0, n_numerical):\n",
    "    temp = [None] * i\n",
    "\n",
    "    for j in range(i, n_numerical):\n",
    "        temp.append(df.corr(numerical_cols[i], numerical_cols[j]))\n",
    "\n",
    "    corr.append(temp)\n",
    "\n",
    "corr"
   ]
  }
 ],
 "metadata": {
  "kernelspec": {
   "display_name": "Python 3",
   "language": "python",
   "name": "python3"
  },
  "language_info": {
   "codemirror_mode": {
    "name": "ipython",
    "version": 3
   },
   "file_extension": ".py",
   "mimetype": "text/x-python",
   "name": "python",
   "nbconvert_exporter": "python",
   "pygments_lexer": "ipython3",
   "version": "3.12.0"
  }
 },
 "nbformat": 4,
 "nbformat_minor": 2
}
