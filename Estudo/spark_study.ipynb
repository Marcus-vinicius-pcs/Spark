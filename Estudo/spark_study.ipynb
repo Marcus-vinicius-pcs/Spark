{
 "cells": [
  {
   "cell_type": "code",
   "execution_count": 2,
   "metadata": {},
   "outputs": [],
   "source": [
    "import os\n",
    "import sys\n",
    "\n",
    "os.environ['PYSPARK_PYTHON'] = sys.executable\n",
    "os.environ['PYSPARK_DRIVER_PYTHON'] = sys.executable"
   ]
  },
  {
   "cell_type": "code",
   "execution_count": 3,
   "metadata": {},
   "outputs": [
    {
     "data": {
      "text/html": [
       "\n",
       "            <div>\n",
       "                <p><b>SparkSession - in-memory</b></p>\n",
       "                \n",
       "        <div>\n",
       "            <p><b>SparkContext</b></p>\n",
       "\n",
       "            <p><a href=\"http://host.docker.internal:4050\">Spark UI</a></p>\n",
       "\n",
       "            <dl>\n",
       "              <dt>Version</dt>\n",
       "                <dd><code>v3.3.4</code></dd>\n",
       "              <dt>Master</dt>\n",
       "                <dd><code>local[*]</code></dd>\n",
       "              <dt>AppName</dt>\n",
       "                <dd><code>Spark APP</code></dd>\n",
       "            </dl>\n",
       "        </div>\n",
       "        \n",
       "            </div>\n",
       "        "
      ],
      "text/plain": [
       "<pyspark.sql.session.SparkSession at 0x27caaf1b260>"
      ]
     },
     "execution_count": 3,
     "metadata": {},
     "output_type": "execute_result"
    }
   ],
   "source": [
    "import findspark\n",
    "\n",
    "findspark.init()\n",
    "\n",
    "from pyspark.sql import SparkSession\n",
    "\n",
    "spark = SparkSession.builder.master(\"local[*]\").appName(\"Spark APP\").config('spark.ui.port', '4050').getOrCreate()\n",
    "spark"
   ]
  },
  {
   "cell_type": "code",
   "execution_count": 9,
   "metadata": {},
   "outputs": [],
   "source": [
    "# concatenates all csv files into one with python\n",
    "import os\n",
    "import glob\n",
    "\n",
    "path = 'C:/Users/vinic/Documents/spark/empresas'\n",
    "all_files = glob.glob(os.path.join(path, \"*.csv\"))\n",
    "\n",
    "# save all files to csv\n",
    "df = spark.read.csv(all_files, sep=';', inferSchema=True)"
   ]
  },
  {
   "cell_type": "code",
   "execution_count": 4,
   "metadata": {},
   "outputs": [
    {
     "data": {
      "text/plain": [
       "4585679"
      ]
     },
     "execution_count": 4,
     "metadata": {},
     "output_type": "execute_result"
    }
   ],
   "source": [
    "df.count()"
   ]
  },
  {
   "cell_type": "code",
   "execution_count": 4,
   "metadata": {},
   "outputs": [
    {
     "name": "stdout",
     "output_type": "stream",
     "text": [
      "+----+--------------------+----+---+-------+---+----+\n",
      "| _c0|                 _c1| _c2|_c3|    _c4|_c5| _c6|\n",
      "+----+--------------------+----+---+-------+---+----+\n",
      "| 306|FRANCAMAR REFRIGE...|2240| 49|   0,00|  1|null|\n",
      "|1355|BRASILEIRO & OLIV...|2062| 49|   0,00|  5|null|\n",
      "|4820|REGISTRO DE IMOVE...|3034| 32|   0,00|  5|null|\n",
      "|5347|ROSELY APARECIDA ...|2135| 50|   0,00|  5|null|\n",
      "|6846|BADU E FILHOS TEC...|2062| 49|4000,00|  1|null|\n",
      "+----+--------------------+----+---+-------+---+----+\n",
      "only showing top 5 rows\n",
      "\n"
     ]
    }
   ],
   "source": [
    "df.show(5)"
   ]
  },
  {
   "cell_type": "code",
   "execution_count": 10,
   "metadata": {},
   "outputs": [],
   "source": [
    "empresasColNames = ['cnpj_basico', 'razao_social_nome_empresarial', 'natureza_juridica', 'qualificacao_do_responsavel', 'capital_social_da_empresa', 'porte_da_empresa', 'ente_federativo_responsavel']"
   ]
  },
  {
   "cell_type": "code",
   "execution_count": 11,
   "metadata": {},
   "outputs": [
    {
     "name": "stdout",
     "output_type": "stream",
     "text": [
      "+-----------+-----------------------------+-----------------+---------------------------+-------------------------+----------------+---------------------------+\n",
      "|cnpj_basico|razao_social_nome_empresarial|natureza_juridica|qualificacao_do_responsavel|capital_social_da_empresa|porte_da_empresa|ente_federativo_responsavel|\n",
      "+-----------+-----------------------------+-----------------+---------------------------+-------------------------+----------------+---------------------------+\n",
      "|        306|         FRANCAMAR REFRIGE...|             2240|                         49|                     0,00|               1|                       null|\n",
      "|       1355|         BRASILEIRO & OLIV...|             2062|                         49|                     0,00|               5|                       null|\n",
      "|       4820|         REGISTRO DE IMOVE...|             3034|                         32|                     0,00|               5|                       null|\n",
      "|       5347|         ROSELY APARECIDA ...|             2135|                         50|                     0,00|               5|                       null|\n",
      "|       6846|         BADU E FILHOS TEC...|             2062|                         49|                  4000,00|               1|                       null|\n",
      "+-----------+-----------------------------+-----------------+---------------------------+-------------------------+----------------+---------------------------+\n",
      "only showing top 5 rows\n",
      "\n"
     ]
    }
   ],
   "source": [
    "for index, colName in enumerate(empresasColNames):\n",
    "    df = df.withColumnRenamed(f'_c{index}', colName)\n",
    "\n",
    "df.show(5)"
   ]
  },
  {
   "cell_type": "code",
   "execution_count": 8,
   "metadata": {},
   "outputs": [
    {
     "name": "stdout",
     "output_type": "stream",
     "text": [
      "root\n",
      " |-- cnpj_basico: integer (nullable = true)\n",
      " |-- razao_social_nome_empresarial: string (nullable = true)\n",
      " |-- natureza_juridica: integer (nullable = true)\n",
      " |-- qualificacao_do_responsavel: integer (nullable = true)\n",
      " |-- capital_social_da_empresa: string (nullable = true)\n",
      " |-- porte_da_empresa: integer (nullable = true)\n",
      " |-- ente_federativo_responsavel: string (nullable = true)\n",
      "\n"
     ]
    }
   ],
   "source": [
    "df.printSchema()"
   ]
  },
  {
   "cell_type": "code",
   "execution_count": 12,
   "metadata": {},
   "outputs": [],
   "source": [
    "from pyspark.sql.types import DoubleType, StringType\n",
    "from pyspark.sql import functions as f"
   ]
  },
  {
   "cell_type": "code",
   "execution_count": 13,
   "metadata": {},
   "outputs": [
    {
     "name": "stdout",
     "output_type": "stream",
     "text": [
      "root\n",
      " |-- cnpj_basico: integer (nullable = true)\n",
      " |-- razao_social_nome_empresarial: string (nullable = true)\n",
      " |-- natureza_juridica: integer (nullable = true)\n",
      " |-- qualificacao_do_responsavel: integer (nullable = true)\n",
      " |-- capital_social_da_empresa: double (nullable = true)\n",
      " |-- porte_da_empresa: integer (nullable = true)\n",
      " |-- ente_federativo_responsavel: string (nullable = true)\n",
      "\n"
     ]
    }
   ],
   "source": [
    "df = df.withColumn('capital_social_da_empresa', f.regexp_replace('capital_social_da_empresa', ',', '.'))\n",
    "df = df.withColumn('capital_social_da_empresa', f.col('capital_social_da_empresa').cast(DoubleType()))\n",
    "df.printSchema()"
   ]
  },
  {
   "cell_type": "code",
   "execution_count": 11,
   "metadata": {},
   "outputs": [
    {
     "name": "stdout",
     "output_type": "stream",
     "text": [
      "+-----------+-----------------------------+-----------------+---------------------------+-------------------------+----------------+---------------------------+\n",
      "|cnpj_basico|razao_social_nome_empresarial|natureza_juridica|qualificacao_do_responsavel|capital_social_da_empresa|porte_da_empresa|ente_federativo_responsavel|\n",
      "+-----------+-----------------------------+-----------------+---------------------------+-------------------------+----------------+---------------------------+\n",
      "|        306|         FRANCAMAR REFRIGE...|             2240|                         49|                      0.0|               1|                       null|\n",
      "|       1355|         BRASILEIRO & OLIV...|             2062|                         49|                      0.0|               5|                       null|\n",
      "|       4820|         REGISTRO DE IMOVE...|             3034|                         32|                      0.0|               5|                       null|\n",
      "|       5347|         ROSELY APARECIDA ...|             2135|                         50|                      0.0|               5|                       null|\n",
      "|       6846|         BADU E FILHOS TEC...|             2062|                         49|                   4000.0|               1|                       null|\n",
      "+-----------+-----------------------------+-----------------+---------------------------+-------------------------+----------------+---------------------------+\n",
      "only showing top 5 rows\n",
      "\n"
     ]
    }
   ],
   "source": [
    "df.show(5)"
   ]
  },
  {
   "cell_type": "markdown",
   "metadata": {},
   "source": [
    "# Convertendo String para Tipo Date"
   ]
  },
  {
   "cell_type": "code",
   "execution_count": 16,
   "metadata": {},
   "outputs": [
    {
     "name": "stdout",
     "output_type": "stream",
     "text": [
      "root\n",
      " |-- data_str: array (nullable = true)\n",
      " |    |-- element: string (containsNull = true)\n",
      "\n"
     ]
    }
   ],
   "source": [
    "data = [{'data_str': ['20220110', '20220109', '20220108', '20220107']}]\n",
    "df_demo = spark.createDataFrame(data)\n",
    "df_demo.printSchema()"
   ]
  },
  {
   "cell_type": "code",
   "execution_count": 17,
   "metadata": {},
   "outputs": [
    {
     "name": "stdout",
     "output_type": "stream",
     "text": [
      "root\n",
      " |-- data_str: date (nullable = true)\n",
      "\n"
     ]
    }
   ],
   "source": [
    "df_demo = df_demo.withColumn(\n",
    "    'data_str', f.to_date(df_demo.data_str.cast(StringType()), 'yyyyMMdd')\n",
    ")\n",
    "df_demo.printSchema()"
   ]
  },
  {
   "cell_type": "markdown",
   "metadata": {},
   "source": [
    "# Realizando consultas"
   ]
  },
  {
   "cell_type": "code",
   "execution_count": 4,
   "metadata": {},
   "outputs": [],
   "source": [
    "import pandas as pd\n",
    "\n",
    "data = pd.DataFrame(\n",
    "    {\n",
    "        'nome': ['GISELLE PAULA GUIMARAES CASTRO', 'ELAINE GARCIA DE OLIVEIRA', 'JOAO CARLOS ABNER DE LOURDES', 'MARTA ZELI FERREIRA'],\n",
    "        'idade': [15, 22, 43, 51]\n",
    "    }\n",
    ")\n",
    "\n",
    "data.to_csv('./data.csv', index=False)\n",
    "\n",
    "df_demo = spark.read.csv('./data.csv', header=True, inferSchema=True)"
   ]
  },
  {
   "cell_type": "code",
   "execution_count": 7,
   "metadata": {},
   "outputs": [
    {
     "name": "stdout",
     "output_type": "stream",
     "text": [
      "+----------------+-----+\n",
      "|           ident|idade|\n",
      "+----------------+-----+\n",
      "| CASTRO, GISELLE|   15|\n",
      "|OLIVEIRA, ELAINE|   22|\n",
      "|   LOURDES, JOAO|   43|\n",
      "| FERREIRA, MARTA|   51|\n",
      "+----------------+-----+\n",
      "\n"
     ]
    }
   ],
   "source": [
    "df_demo.select(\n",
    "    f.concat_ws(\n",
    "        ', ',\n",
    "        f.substring_index('nome', ' ', -1),\n",
    "        f.substring_index('nome', ' ', 1)\n",
    "    ).alias('ident'), 'idade'\n",
    ").show()"
   ]
  },
  {
   "cell_type": "code",
   "execution_count": 16,
   "metadata": {},
   "outputs": [
    {
     "name": "stdout",
     "output_type": "stream",
     "text": [
      "+-----------------------------+-----------+----------------+-------------------------+\n",
      "|razao_social_nome_empresarial|cnpj_basico|porte_da_empresa|capital_social_da_empresa|\n",
      "+-----------------------------+-----------+----------------+-------------------------+\n",
      "|         AAIP AGRO NEGOCIO...|   19097654|               5|                   5.0E10|\n",
      "|         ROMOTEX INVESTIME...|   22237511|               5|          4.0913781956E10|\n",
      "|         EQUINOR BRASIL EN...|    4028583|               5|               3.22586E10|\n",
      "|         ITB HOLDING BRASI...|    4274016|               5|        1.745743540422E10|\n",
      "|                  M A C SILVA|    1113037|               5|          1.6100127405E10|\n",
      "|         GVT PARTICIPACOES...|   10242813|               5|          1.3498790549E10|\n",
      "|              CIMENTO ACU S/A|   17852181|               5|             1.1445792E10|\n",
      "|            TVGD HOLDING LTDA|   34298743|               5|                   1.0E10|\n",
      "|            HOLDING XS 1 S.A.|   38122269|               5|                   9.09E9|\n",
      "|                   ENEVA S.A.|    4423567|               5|          8.91705088421E9|\n",
      "|         BANCO ITAULEASING...|   49925225|               5|            8.415391654E9|\n",
      "|         ENGIE BRASIL PART...|    1370013|               5|            8.360623887E9|\n",
      "|         ATVOS AGROINDUSTR...|    8842690|               5|          8.19789190757E9|\n",
      "|                     VLI S.A.|   12563794|               5|          8.06909106194E9|\n",
      "|         FB PARTICIPACOES ...|   11309502|               5|          6.93159645204E9|\n",
      "|         LION MINERACAO DO...|   16666892|               5|             6.40264225E9|\n",
      "|         ECISA ENGENHARIA,...|   33261561|               5|            6.123388766E9|\n",
      "|         KIRIN HOLDING INV...|   13185149|               5|            6.112622128E9|\n",
      "|                  BIOSEV S.A.|   15527906|               5|          6.07767410373E9|\n",
      "|         LAFARGEHOLCIM (BR...|   60869336|               5|          5.77023456295E9|\n",
      "+-----------------------------+-----------+----------------+-------------------------+\n",
      "only showing top 20 rows\n",
      "\n"
     ]
    }
   ],
   "source": [
    "# Ordenando Dados\n",
    "\n",
    "df.select(\n",
    "    'razao_social_nome_empresarial',\n",
    "    'cnpj_basico',\n",
    "    'porte_da_empresa',\n",
    "    'capital_social_da_empresa'\n",
    ").orderBy(['porte_da_empresa', 'capital_social_da_empresa'], ascending=[False, False]).show()"
   ]
  },
  {
   "cell_type": "code",
   "execution_count": 19,
   "metadata": {},
   "outputs": [
    {
     "name": "stdout",
     "output_type": "stream",
     "text": [
      "+-----------+-----------------------------+-----------------+---------------------------+-------------------------+----------------+---------------------------+\n",
      "|cnpj_basico|razao_social_nome_empresarial|natureza_juridica|qualificacao_do_responsavel|capital_social_da_empresa|porte_da_empresa|ente_federativo_responsavel|\n",
      "+-----------+-----------------------------+-----------------+---------------------------+-------------------------+----------------+---------------------------+\n",
      "|      58970|         TOTAL CAR VEICULO...|             2062|                         49|                  20000.0|               1|                       null|\n",
      "|      70273|         VANDA DA SILVA LA...|             2135|                         50|                  15000.0|               1|                       null|\n",
      "|      74218|            V G SILVA TECIDOS|             2135|                         50|                  16000.0|               1|                       null|\n",
      "|     116791|          AGNALDO ROCHA VIANA|             2135|                         50|                  60000.0|               1|                       null|\n",
      "|     213573|         AUSTEMP TRATAMENT...|             2062|                         49|                  25000.0|               3|                       null|\n",
      "|     215102|         JBM COMERCIAL DE ...|             2062|                         49|                  30000.0|               3|                       null|\n",
      "|     346063|         COR DO CEU INDUST...|             2062|                         49|                1000000.0|               3|                       null|\n",
      "|     399680|         MARIANTE COMERCIO...|             2062|                         49|                  50000.0|               5|                       null|\n",
      "|     477251|         FORMS EMPREENDIME...|             2062|                         49|                  30000.0|               1|                       null|\n",
      "|     514684|         BARROS & MIRANDA ...|             2062|                         49|                  30000.0|               3|                       null|\n",
      "|     550169|                FERNANDO SKAF|             2135|                         50|                  70000.0|               3|                       null|\n",
      "|     616948|         NOVA PRIMUS COMER...|             2062|                         49|                  50000.0|               1|                       null|\n",
      "|     639844|         MULTI-HIDRO INDUS...|             2062|                         49|                   1.44E7|               5|                       null|\n",
      "|     655784|         HOB & NOB COM. IM...|             2062|                         49|                  52000.0|               3|                       null|\n",
      "|     656225|         JOAO CARLOS RODRI...|             2135|                         50|                  20000.0|               1|                       null|\n",
      "|     677535|         TRANSPORTES TRANS...|             2062|                         49|                  30000.0|               1|                       null|\n",
      "|     820160|         I B ABRAMOSKI EIRELI|             2305|                         65|                 100000.0|               1|                       null|\n",
      "|     860872|         LUSA LOCADORA DE ...|             2062|                         49|                 100000.0|               5|                       null|\n",
      "|     892150|         INSTITUTO EDUCACI...|             2062|                         49|                  60000.0|               1|                       null|\n",
      "|     992392|            RUDIMAR BORGHETTI|             2135|                         50|                 600000.0|               1|                       null|\n",
      "+-----------+-----------------------------+-----------------+---------------------------+-------------------------+----------------+---------------------------+\n",
      "only showing top 20 rows\n",
      "\n"
     ]
    }
   ],
   "source": [
    "# Realizando filtros\n",
    "\n",
    "# utilizando where\n",
    "df.where('capital_social_da_empresa > 10000').show()"
   ]
  },
  {
   "cell_type": "code",
   "execution_count": 23,
   "metadata": {},
   "outputs": [
    {
     "name": "stdout",
     "output_type": "stream",
     "text": [
      "+-----------------------------+\n",
      "|razao_social_nome_empresarial|\n",
      "+-----------------------------+\n",
      "|         LANCHONETE RIO VE...|\n",
      "|         LANCHONETE VISTA ...|\n",
      "|         LANCHONETE E CHUR...|\n",
      "|         LANCHONETE BASILE...|\n",
      "|         LANCHONETE ASTRO ...|\n",
      "|         LANCHONETE E REST...|\n",
      "|         LANCHONETE E CHOP...|\n",
      "|         LANCHONETE CACIQU...|\n",
      "|         LANCHONETE MEREND...|\n",
      "|         LANCHONETE PELAND...|\n",
      "|         LANCHONETE E PIZZ...|\n",
      "|         LANCHONETE COOPER...|\n",
      "|         LANCHONETE E SORV...|\n",
      "|         LANCHONETE MEIA E...|\n",
      "|         LANCHONETE UNIAO ...|\n",
      "|         LANCHONETE E BORR...|\n",
      "|         LANCHONETE QUATRO...|\n",
      "|         LANCHONETE REFOGA...|\n",
      "|         LANCHONETE BOB BU...|\n",
      "|         LANCHONETE BAGAGE...|\n",
      "+-----------------------------+\n",
      "only showing top 20 rows\n",
      "\n"
     ]
    }
   ],
   "source": [
    "# utilizando filter\n",
    "\n",
    "df.filter(df.razao_social_nome_empresarial.startswith('LANCHONETE')).select('razao_social_nome_empresarial').show()"
   ]
  },
  {
   "cell_type": "code",
   "execution_count": 25,
   "metadata": {},
   "outputs": [
    {
     "name": "stdout",
     "output_type": "stream",
     "text": [
      "+-------------------------------------------------------+\n",
      "|razao_social_nome_empresarial                          |\n",
      "+-------------------------------------------------------+\n",
      "|RESTAURANTE IMIGRANTE PORTUGUES LTDA.                  |\n",
      "|MORAIS & CARVALHO RESTAURANTE E PIZZARIA LTDA          |\n",
      "|BAR E RESTAURANTE PAGANOTTO LTDA                       |\n",
      "|RODRIGUES & RODRIGUES RESTAURANTE LTDA                 |\n",
      "|TEXAS RANCH BAR RESTAURANTE PRODUCOES ARTISTICAS E CULT|\n",
      "|V V SANTOS RESTAURANTE BAR E ATIV DESPORTIVAS LTDA     |\n",
      "|BAR E RESTAURANTE CASA DA QUINTA LTDA                  |\n",
      "|DON MUGO RESTAURANTE LTDA                              |\n",
      "|MARIA ROZA DOS SANTOS- BAR E RESTAURANTE               |\n",
      "|GERACAO DE OURO - BAR E RESTAURANTE LTDA               |\n",
      "|ELIANIA A. CUSTODIO RESTAURANTE                        |\n",
      "|DOCE ESPIGA RESTAURANTE LTDA                           |\n",
      "|R. A. D. ABRIL RESTAURANTE                             |\n",
      "|BAR E RESTAURANTE IULIANCHESE LTDA.                    |\n",
      "|R. DA S. ARAUJO - RESTAURANTE                          |\n",
      "|CHINELAO RESTAURANTE JAPONES LTDA                      |\n",
      "|RESTAURANTE E PETISCARIA THE-DELICIA LTDA              |\n",
      "|PSTJ RESTAURANTE LTDA                                  |\n",
      "|CASTELO RESTAURANTE LTDA                               |\n",
      "|VALENTE SUZART FRANCO RESTAURANTE, CREPERIA E BAR LTDA |\n",
      "+-------------------------------------------------------+\n",
      "only showing top 20 rows\n",
      "\n"
     ]
    }
   ],
   "source": [
    "df.select('razao_social_nome_empresarial').filter(f.upper(df.razao_social_nome_empresarial).like('%RESTAURANTE%')).show(truncate=False)"
   ]
  },
  {
   "cell_type": "code",
   "execution_count": 27,
   "metadata": {},
   "outputs": [
    {
     "name": "stdout",
     "output_type": "stream",
     "text": [
      "+----------------+--------------------+----------+\n",
      "|porte_da_empresa|capital_social_medio|frequencia|\n",
      "+----------------+--------------------+----------+\n",
      "|            null|    8.35421888053467|      5985|\n",
      "|               1|  339994.53313507047|   3129043|\n",
      "|               3|  2601001.7677092687|    115151|\n",
      "|               5|   708660.4208249793|   1335500|\n",
      "+----------------+--------------------+----------+\n",
      "\n"
     ]
    }
   ],
   "source": [
    "# Agregações\n",
    "\n",
    "df.select(\n",
    "    'cnpj_basico', 'porte_da_empresa', 'capital_social_da_empresa'\n",
    "    ).groupBy(\n",
    "        'porte_da_empresa'\n",
    "    ).agg(\n",
    "        f.avg('capital_social_da_empresa').alias('capital_social_medio'),\n",
    "        f.count('cnpj_basico').alias('frequencia')\n",
    "    ).orderBy(\n",
    "        'porte_da_empresa', ascending=True\n",
    "    ).show()"
   ]
  },
  {
   "cell_type": "code",
   "execution_count": 28,
   "metadata": {},
   "outputs": [
    {
     "name": "stdout",
     "output_type": "stream",
     "text": [
      "+-------+-------------------------+\n",
      "|summary|capital_social_da_empresa|\n",
      "+-------+-------------------------+\n",
      "|  count|                  4585679|\n",
      "|   mean|        503694.5478542674|\n",
      "| stddev|     2.1118691490537727E8|\n",
      "|    min|                      0.0|\n",
      "|    25%|                      0.0|\n",
      "|    50%|                   1000.0|\n",
      "|    75%|                   7000.0|\n",
      "|    max|         3.22014670262E11|\n",
      "+-------+-------------------------+\n",
      "\n"
     ]
    }
   ],
   "source": [
    "df.select('capital_social_da_empresa').summary().show()"
   ]
  },
  {
   "cell_type": "code",
   "execution_count": 42,
   "metadata": {},
   "outputs": [],
   "source": [
    "# joins\n",
    "\n",
    "pd.DataFrame(\n",
    "    {\n",
    "        'nomes': ['CARLOS', 'IVO', 'MÁRCIA', 'LEILA', 'LETÍCIA'],\n",
    "        'idade': [15, 14, 16, 17, 14]\n",
    "    }\n",
    ").to_csv('df_pandas_1.csv', index=False)\n",
    "\n",
    "pd.DataFrame(\n",
    "    {\n",
    "        'nomes': ['CARLOS', 'MÁRCIA', 'LEILA', 'BRENO', 'LETÍCIA'],\n",
    "        'notas': [10, 1, 10, 7, 9]\n",
    "    }  \n",
    ").to_csv('df_pandas_2.csv', index=False)\n",
    "\n",
    "idade = spark.read.csv('./df_pandas_1.csv', inferSchema=True, header=True)\n",
    "notas = spark.read.csv('./df_pandas_2.csv', inferSchema=True, header=True)"
   ]
  },
  {
   "cell_type": "code",
   "execution_count": 43,
   "metadata": {},
   "outputs": [
    {
     "name": "stdout",
     "output_type": "stream",
     "text": [
      "+------+-----+-------+-----+\n",
      "| nomes|idade|  nomes|notas|\n",
      "+------+-----+-------+-----+\n",
      "|CARLOS|   15| CARLOS|   10|\n",
      "|CARLOS|   15| MÁRCIA|    1|\n",
      "|CARLOS|   15|  LEILA|   10|\n",
      "|CARLOS|   15|  BRENO|    7|\n",
      "|CARLOS|   15|LETÍCIA|    9|\n",
      "|   IVO|   14| CARLOS|   10|\n",
      "|   IVO|   14| MÁRCIA|    1|\n",
      "|   IVO|   14|  LEILA|   10|\n",
      "|   IVO|   14|  BRENO|    7|\n",
      "|   IVO|   14|LETÍCIA|    9|\n",
      "|MÁRCIA|   16| CARLOS|   10|\n",
      "|MÁRCIA|   16| MÁRCIA|    1|\n",
      "|MÁRCIA|   16|  LEILA|   10|\n",
      "|MÁRCIA|   16|  BRENO|    7|\n",
      "|MÁRCIA|   16|LETÍCIA|    9|\n",
      "| LEILA|   17| CARLOS|   10|\n",
      "| LEILA|   17| MÁRCIA|    1|\n",
      "| LEILA|   17|  LEILA|   10|\n",
      "| LEILA|   17|  BRENO|    7|\n",
      "| LEILA|   17|LETÍCIA|    9|\n",
      "+------+-----+-------+-----+\n",
      "only showing top 20 rows\n",
      "\n"
     ]
    }
   ],
   "source": [
    "# inner join\n",
    "\n",
    "idade.join(notas, how='inner').show()"
   ]
  },
  {
   "cell_type": "code",
   "execution_count": 44,
   "metadata": {},
   "outputs": [
    {
     "name": "stdout",
     "output_type": "stream",
     "text": [
      "+------+-----+-------+-----+\n",
      "| nomes|idade|  nomes|notas|\n",
      "+------+-----+-------+-----+\n",
      "|CARLOS|   15| CARLOS|   10|\n",
      "|CARLOS|   15| MÁRCIA|    1|\n",
      "|CARLOS|   15|  LEILA|   10|\n",
      "|CARLOS|   15|  BRENO|    7|\n",
      "|CARLOS|   15|LETÍCIA|    9|\n",
      "|   IVO|   14| CARLOS|   10|\n",
      "|   IVO|   14| MÁRCIA|    1|\n",
      "|   IVO|   14|  LEILA|   10|\n",
      "|   IVO|   14|  BRENO|    7|\n",
      "|   IVO|   14|LETÍCIA|    9|\n",
      "|MÁRCIA|   16| CARLOS|   10|\n",
      "|MÁRCIA|   16| MÁRCIA|    1|\n",
      "|MÁRCIA|   16|  LEILA|   10|\n",
      "|MÁRCIA|   16|  BRENO|    7|\n",
      "|MÁRCIA|   16|LETÍCIA|    9|\n",
      "| LEILA|   17| CARLOS|   10|\n",
      "| LEILA|   17| MÁRCIA|    1|\n",
      "| LEILA|   17|  LEILA|   10|\n",
      "| LEILA|   17|  BRENO|    7|\n",
      "| LEILA|   17|LETÍCIA|    9|\n",
      "+------+-----+-------+-----+\n",
      "only showing top 20 rows\n",
      "\n"
     ]
    }
   ],
   "source": [
    "# left join\n",
    "\n",
    "idade.join(notas, how='left').show()"
   ]
  },
  {
   "cell_type": "code",
   "execution_count": 45,
   "metadata": {},
   "outputs": [
    {
     "name": "stdout",
     "output_type": "stream",
     "text": [
      "+-------+-----+------+-----+\n",
      "|  nomes|idade| nomes|notas|\n",
      "+-------+-----+------+-----+\n",
      "| CARLOS|   15|CARLOS|   10|\n",
      "|    IVO|   14|CARLOS|   10|\n",
      "| MÁRCIA|   16|CARLOS|   10|\n",
      "|  LEILA|   17|CARLOS|   10|\n",
      "|LETÍCIA|   14|CARLOS|   10|\n",
      "| CARLOS|   15|MÁRCIA|    1|\n",
      "|    IVO|   14|MÁRCIA|    1|\n",
      "| MÁRCIA|   16|MÁRCIA|    1|\n",
      "|  LEILA|   17|MÁRCIA|    1|\n",
      "|LETÍCIA|   14|MÁRCIA|    1|\n",
      "| CARLOS|   15| LEILA|   10|\n",
      "|    IVO|   14| LEILA|   10|\n",
      "| MÁRCIA|   16| LEILA|   10|\n",
      "|  LEILA|   17| LEILA|   10|\n",
      "|LETÍCIA|   14| LEILA|   10|\n",
      "| CARLOS|   15| BRENO|    7|\n",
      "|    IVO|   14| BRENO|    7|\n",
      "| MÁRCIA|   16| BRENO|    7|\n",
      "|  LEILA|   17| BRENO|    7|\n",
      "|LETÍCIA|   14| BRENO|    7|\n",
      "+-------+-----+------+-----+\n",
      "only showing top 20 rows\n",
      "\n"
     ]
    }
   ],
   "source": [
    "# right join\n",
    "\n",
    "idade.join(notas, how='right').show()"
   ]
  },
  {
   "cell_type": "code",
   "execution_count": 46,
   "metadata": {},
   "outputs": [
    {
     "name": "stdout",
     "output_type": "stream",
     "text": [
      "+------+-----+-------+-----+\n",
      "| nomes|idade|  nomes|notas|\n",
      "+------+-----+-------+-----+\n",
      "|CARLOS|   15| CARLOS|   10|\n",
      "|CARLOS|   15| MÁRCIA|    1|\n",
      "|CARLOS|   15|  LEILA|   10|\n",
      "|CARLOS|   15|  BRENO|    7|\n",
      "|CARLOS|   15|LETÍCIA|    9|\n",
      "|   IVO|   14| CARLOS|   10|\n",
      "|   IVO|   14| MÁRCIA|    1|\n",
      "|   IVO|   14|  LEILA|   10|\n",
      "|   IVO|   14|  BRENO|    7|\n",
      "|   IVO|   14|LETÍCIA|    9|\n",
      "|MÁRCIA|   16| CARLOS|   10|\n",
      "|MÁRCIA|   16| MÁRCIA|    1|\n",
      "|MÁRCIA|   16|  LEILA|   10|\n",
      "|MÁRCIA|   16|  BRENO|    7|\n",
      "|MÁRCIA|   16|LETÍCIA|    9|\n",
      "| LEILA|   17| CARLOS|   10|\n",
      "| LEILA|   17| MÁRCIA|    1|\n",
      "| LEILA|   17|  LEILA|   10|\n",
      "| LEILA|   17|  BRENO|    7|\n",
      "| LEILA|   17|LETÍCIA|    9|\n",
      "+------+-----+-------+-----+\n",
      "only showing top 20 rows\n",
      "\n"
     ]
    }
   ],
   "source": [
    "# outer join\n",
    "\n",
    "idade.join(notas, how='outer').show()"
   ]
  },
  {
   "cell_type": "markdown",
   "metadata": {},
   "source": [
    "# PySpark SQL"
   ]
  },
  {
   "cell_type": "code",
   "execution_count": 47,
   "metadata": {},
   "outputs": [],
   "source": [
    "df.createOrReplaceTempView('df_view')"
   ]
  },
  {
   "cell_type": "code",
   "execution_count": 55,
   "metadata": {},
   "outputs": [
    {
     "name": "stdout",
     "output_type": "stream",
     "text": [
      "+----------------+------------------+\n",
      "|porte_da_empresa|             media|\n",
      "+----------------+------------------+\n",
      "|               3|2601001.7677092687|\n",
      "|               5| 708660.4208249793|\n",
      "|               1|339994.53313507047|\n",
      "|            null|  8.35421888053467|\n",
      "+----------------+------------------+\n",
      "\n"
     ]
    }
   ],
   "source": [
    "spark.sql(\n",
    "        \"\"\"\n",
    "            SELECT porte_da_empresa, MEAN(capital_social_da_empresa) AS media\n",
    "            FROM df_view\n",
    "            GROUP BY porte_da_empresa\n",
    "            ORDER BY media DESC\n",
    "        \"\"\"\n",
    "    ).show()"
   ]
  },
  {
   "cell_type": "code",
   "execution_count": null,
   "metadata": {},
   "outputs": [],
   "source": [
    "# write to csv\n",
    "\n",
    "df.write.csv(\n",
    "    path='./output',\n",
    "    mode='overwrite',\n",
    "    sep=',',\n",
    "    header=True\n",
    ")\n",
    "\n",
    "# write to parquet\n",
    "\n",
    "df.write.parquet(\n",
    "    path='./output',\n",
    "    mode='overwrite'\n",
    ")\n",
    "\n",
    "# write to orc\n",
    "\n",
    "df.write.orc(\n",
    "    path='./output',\n",
    "    mode='overwrite'\n",
    ")"
   ]
  },
  {
   "cell_type": "code",
   "execution_count": null,
   "metadata": {},
   "outputs": [],
   "source": [
    "# repartition to create only one file\n",
    "df.write.coalesce(1).csv(\n",
    "    path='./output',\n",
    "    mode='overwrite',\n",
    "    sep=',',\n",
    "    header=True\n",
    ")\n",
    "\n",
    "# parition by column\n",
    "df.write.parquet(\n",
    "    path='./output',\n",
    "    mode='overwrite',\n",
    "    partitionBy='porte_da_empresa'\n",
    ")"
   ]
  },
  {
   "cell_type": "code",
   "execution_count": 62,
   "metadata": {},
   "outputs": [],
   "source": [
    "spark.stop()"
   ]
  }
 ],
 "metadata": {
  "kernelspec": {
   "display_name": "venv",
   "language": "python",
   "name": "python3"
  },
  "language_info": {
   "codemirror_mode": {
    "name": "ipython",
    "version": 3
   },
   "file_extension": ".py",
   "mimetype": "text/x-python",
   "name": "python",
   "nbconvert_exporter": "python",
   "pygments_lexer": "ipython3",
   "version": "3.12.0"
  }
 },
 "nbformat": 4,
 "nbformat_minor": 2
}
